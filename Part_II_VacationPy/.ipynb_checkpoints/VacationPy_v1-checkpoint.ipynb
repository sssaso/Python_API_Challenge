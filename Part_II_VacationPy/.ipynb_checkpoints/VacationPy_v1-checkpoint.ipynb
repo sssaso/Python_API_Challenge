{
 "cells": [
  {
   "cell_type": "markdown",
   "metadata": {},
   "source": [
    "# VacationPy\n",
    "----\n",
    "\n",
    "#### Note\n",
    "* Instructions have been included for each segment. You do not have to follow them exactly, but they are included to help you think through the steps."
   ]
  },
  {
   "cell_type": "code",
   "execution_count": 1,
   "metadata": {},
   "outputs": [],
   "source": [
    "# Dependencies and Setup\n",
    "import matplotlib.pyplot as plt\n",
    "import pandas as pd\n",
    "import numpy as np\n",
    "import requests\n",
    "import gmaps\n",
    "import os\n",
    "from pprint import pprint \n",
    "\n",
    "# Import API key\n",
    "from api_keys import g_key"
   ]
  },
  {
   "cell_type": "markdown",
   "metadata": {},
   "source": [
    "### Store Part I results into DataFrame\n",
    "* Load the csv exported in Part I to a DataFrame"
   ]
  },
  {
   "cell_type": "code",
   "execution_count": 2,
   "metadata": {},
   "outputs": [
    {
     "data": {
      "text/plain": [
       "City ID       571\n",
       "City          571\n",
       "Country       567\n",
       "Lat           571\n",
       "Lng           571\n",
       "Humidity      571\n",
       "Temp          571\n",
       "Max Temp      571\n",
       "Wind Speed    571\n",
       "Cloudiness    571\n",
       "Date          571\n",
       "dtype: int64"
      ]
     },
     "execution_count": 2,
     "metadata": {},
     "output_type": "execute_result"
    }
   ],
   "source": [
    "file=\"../Part_I_WeatherPy/Output/city_data.csv\"\n",
    "city_weather=pd.read_csv(file)\n",
    "city_weather.head()\n",
    "city_weather.count()"
   ]
  },
  {
   "cell_type": "code",
   "execution_count": 3,
   "metadata": {},
   "outputs": [
    {
     "data": {
      "text/plain": [
       "0      72\n",
       "1      94\n",
       "2      61\n",
       "3      93\n",
       "4      51\n",
       "       ..\n",
       "566    88\n",
       "567    48\n",
       "568    92\n",
       "569    80\n",
       "570    73\n",
       "Name: Humidity, Length: 571, dtype: int64"
      ]
     },
     "execution_count": 3,
     "metadata": {},
     "output_type": "execute_result"
    }
   ],
   "source": [
    "city_locations=city_weather[['Lat','Lng']]\n",
    "weights=city_weather['Humidity']\n",
    "weights"
   ]
  },
  {
   "cell_type": "markdown",
   "metadata": {},
   "source": [
    "### Humidity Heatmap\n",
    "* Configure gmaps.\n",
    "* Use the Lat and Lng as locations and Humidity as the weight.\n",
    "* Add Heatmap layer to map."
   ]
  },
  {
   "cell_type": "code",
   "execution_count": 23,
   "metadata": {
    "scrolled": true
   },
   "outputs": [
    {
     "ename": "TypeError",
     "evalue": "heatmap_layer() got an unexpected keyword argument 'intensity'",
     "output_type": "error",
     "traceback": [
      "\u001b[1;31m---------------------------------------------------------------------------\u001b[0m",
      "\u001b[1;31mTypeError\u001b[0m                                 Traceback (most recent call last)",
      "\u001b[1;32m<ipython-input-23-84bb5b94c3d3>\u001b[0m in \u001b[0;36m<module>\u001b[1;34m\u001b[0m\n\u001b[0;32m      1\u001b[0m \u001b[0mfig\u001b[0m\u001b[1;33m=\u001b[0m\u001b[0mgmaps\u001b[0m\u001b[1;33m.\u001b[0m\u001b[0mfigure\u001b[0m\u001b[1;33m(\u001b[0m\u001b[1;33m)\u001b[0m\u001b[1;33m\u001b[0m\u001b[1;33m\u001b[0m\u001b[0m\n\u001b[1;32m----> 2\u001b[1;33m \u001b[0mfig\u001b[0m\u001b[1;33m.\u001b[0m\u001b[0madd_layer\u001b[0m\u001b[1;33m(\u001b[0m\u001b[0mgmaps\u001b[0m\u001b[1;33m.\u001b[0m\u001b[0mheatmap_layer\u001b[0m\u001b[1;33m(\u001b[0m\u001b[0mcity_locations\u001b[0m\u001b[1;33m,\u001b[0m\u001b[0mweights\u001b[0m\u001b[1;33m=\u001b[0m\u001b[0mweights\u001b[0m\u001b[1;33m,\u001b[0m \u001b[0mintensity\u001b[0m\u001b[1;33m=\u001b[0m\u001b[1;36m100\u001b[0m\u001b[1;33m)\u001b[0m\u001b[1;33m)\u001b[0m\u001b[1;33m\u001b[0m\u001b[1;33m\u001b[0m\u001b[0m\n\u001b[0m\u001b[0;32m      3\u001b[0m \u001b[0mfig\u001b[0m\u001b[1;33m\u001b[0m\u001b[1;33m\u001b[0m\u001b[0m\n",
      "\u001b[1;31mTypeError\u001b[0m: heatmap_layer() got an unexpected keyword argument 'intensity'"
     ]
    }
   ],
   "source": [
    "fig=gmaps.figure()\n",
    "fig.add_layer(gmaps.heatmap_layer(city_locations,weights=weights, intensity=100))\n",
    "fig"
   ]
  },
  {
   "cell_type": "code",
   "execution_count": null,
   "metadata": {},
   "outputs": [],
   "source": []
  },
  {
   "cell_type": "markdown",
   "metadata": {},
   "source": [
    "### Create new DataFrame fitting weather criteria\n",
    "* Narrow down the cities to fit weather conditions.\n",
    "* Drop any rows will null values."
   ]
  },
  {
   "cell_type": "code",
   "execution_count": 6,
   "metadata": {},
   "outputs": [
    {
     "data": {
      "text/plain": [
       "City ID       567\n",
       "City          567\n",
       "Country       567\n",
       "Lat           567\n",
       "Lng           567\n",
       "Humidity      567\n",
       "Temp          567\n",
       "Max Temp      567\n",
       "Wind Speed    567\n",
       "Cloudiness    567\n",
       "Date          567\n",
       "dtype: int64"
      ]
     },
     "execution_count": 6,
     "metadata": {},
     "output_type": "execute_result"
    }
   ],
   "source": [
    "city_weather.dropna(how='any',inplace=True)\n",
    "city_weather.count()"
   ]
  },
  {
   "cell_type": "code",
   "execution_count": 7,
   "metadata": {},
   "outputs": [
    {
     "name": "stderr",
     "output_type": "stream",
     "text": [
      "C:\\Users\\JJ\\anaconda3\\lib\\site-packages\\pandas\\core\\frame.py:3997: SettingWithCopyWarning: \n",
      "A value is trying to be set on a copy of a slice from a DataFrame\n",
      "\n",
      "See the caveats in the documentation: https://pandas.pydata.org/pandas-docs/stable/user_guide/indexing.html#returning-a-view-versus-a-copy\n",
      "  errors=errors,\n"
     ]
    }
   ],
   "source": [
    "#Ideal weather condition for vacation\n",
    "#1.Humidity(%) b/t 30 and 50\n",
    "#2.Max temp(F) b/t 65 and 75 \n",
    "#3.Wind speed(mph) b/t 4 and 8\n",
    "\n",
    "hotel_df=city_weather.loc[(city_weather[\"Humidity\"]>35) & (city_weather[\"Humidity\"]<55) \n",
    "                                   & (city_weather[\"Max Temp\"]<75) & (city_weather[\"Max Temp\"]>65) \n",
    "                                   & (city_weather[\"Wind Speed\"]>5) & (city_weather[\"Wind Speed\"]<7)]\n",
    "\n",
    "hotel_df.reset_index(inplace=True)\n",
    "hotel_df.drop(\"index\", axis=1, inplace=True)\n",
    "hotel_df\n",
    "hotel_df.to_csv('Output/hotel.csv')"
   ]
  },
  {
   "cell_type": "code",
   "execution_count": 8,
   "metadata": {},
   "outputs": [
    {
     "data": {
      "text/html": [
       "<div>\n",
       "<style scoped>\n",
       "    .dataframe tbody tr th:only-of-type {\n",
       "        vertical-align: middle;\n",
       "    }\n",
       "\n",
       "    .dataframe tbody tr th {\n",
       "        vertical-align: top;\n",
       "    }\n",
       "\n",
       "    .dataframe thead th {\n",
       "        text-align: right;\n",
       "    }\n",
       "</style>\n",
       "<table border=\"1\" class=\"dataframe\">\n",
       "  <thead>\n",
       "    <tr style=\"text-align: right;\">\n",
       "      <th></th>\n",
       "      <th>City ID</th>\n",
       "      <th>City</th>\n",
       "      <th>Country</th>\n",
       "      <th>Lat</th>\n",
       "      <th>Lng</th>\n",
       "      <th>Humidity</th>\n",
       "      <th>Temp</th>\n",
       "      <th>Max Temp</th>\n",
       "      <th>Wind Speed</th>\n",
       "      <th>Cloudiness</th>\n",
       "      <th>Date</th>\n",
       "    </tr>\n",
       "  </thead>\n",
       "  <tbody>\n",
       "    <tr>\n",
       "      <th>0</th>\n",
       "      <td>193</td>\n",
       "      <td>Bilibino</td>\n",
       "      <td>RU</td>\n",
       "      <td>68.05</td>\n",
       "      <td>166.44</td>\n",
       "      <td>37</td>\n",
       "      <td>69.10</td>\n",
       "      <td>69.10</td>\n",
       "      <td>5.10</td>\n",
       "      <td>0</td>\n",
       "      <td>1592509148</td>\n",
       "    </tr>\n",
       "    <tr>\n",
       "      <th>1</th>\n",
       "      <td>284</td>\n",
       "      <td>Vanderhoof</td>\n",
       "      <td>CA</td>\n",
       "      <td>54.02</td>\n",
       "      <td>-124.02</td>\n",
       "      <td>38</td>\n",
       "      <td>73.33</td>\n",
       "      <td>73.33</td>\n",
       "      <td>5.48</td>\n",
       "      <td>100</td>\n",
       "      <td>1592509453</td>\n",
       "    </tr>\n",
       "    <tr>\n",
       "      <th>2</th>\n",
       "      <td>316</td>\n",
       "      <td>Burns Lake</td>\n",
       "      <td>CA</td>\n",
       "      <td>54.23</td>\n",
       "      <td>-125.75</td>\n",
       "      <td>43</td>\n",
       "      <td>69.21</td>\n",
       "      <td>69.21</td>\n",
       "      <td>5.10</td>\n",
       "      <td>100</td>\n",
       "      <td>1592509457</td>\n",
       "    </tr>\n",
       "    <tr>\n",
       "      <th>3</th>\n",
       "      <td>320</td>\n",
       "      <td>College</td>\n",
       "      <td>US</td>\n",
       "      <td>64.86</td>\n",
       "      <td>-147.80</td>\n",
       "      <td>42</td>\n",
       "      <td>69.15</td>\n",
       "      <td>71.01</td>\n",
       "      <td>5.82</td>\n",
       "      <td>40</td>\n",
       "      <td>1592509132</td>\n",
       "    </tr>\n",
       "    <tr>\n",
       "      <th>4</th>\n",
       "      <td>461</td>\n",
       "      <td>Yuancheng</td>\n",
       "      <td>CN</td>\n",
       "      <td>36.65</td>\n",
       "      <td>107.79</td>\n",
       "      <td>54</td>\n",
       "      <td>68.41</td>\n",
       "      <td>68.41</td>\n",
       "      <td>5.26</td>\n",
       "      <td>99</td>\n",
       "      <td>1592509474</td>\n",
       "    </tr>\n",
       "    <tr>\n",
       "      <th>5</th>\n",
       "      <td>501</td>\n",
       "      <td>Cranbrook</td>\n",
       "      <td>CA</td>\n",
       "      <td>49.50</td>\n",
       "      <td>-115.77</td>\n",
       "      <td>42</td>\n",
       "      <td>68.00</td>\n",
       "      <td>68.00</td>\n",
       "      <td>5.82</td>\n",
       "      <td>75</td>\n",
       "      <td>1592509451</td>\n",
       "    </tr>\n",
       "  </tbody>\n",
       "</table>\n",
       "</div>"
      ],
      "text/plain": [
       "   City ID        City Country    Lat     Lng  Humidity   Temp  Max Temp  \\\n",
       "0      193    Bilibino      RU  68.05  166.44        37  69.10     69.10   \n",
       "1      284  Vanderhoof      CA  54.02 -124.02        38  73.33     73.33   \n",
       "2      316  Burns Lake      CA  54.23 -125.75        43  69.21     69.21   \n",
       "3      320     College      US  64.86 -147.80        42  69.15     71.01   \n",
       "4      461   Yuancheng      CN  36.65  107.79        54  68.41     68.41   \n",
       "5      501   Cranbrook      CA  49.50 -115.77        42  68.00     68.00   \n",
       "\n",
       "   Wind Speed  Cloudiness        Date  \n",
       "0        5.10           0  1592509148  \n",
       "1        5.48         100  1592509453  \n",
       "2        5.10         100  1592509457  \n",
       "3        5.82          40  1592509132  \n",
       "4        5.26          99  1592509474  \n",
       "5        5.82          75  1592509451  "
      ]
     },
     "execution_count": 8,
     "metadata": {},
     "output_type": "execute_result"
    }
   ],
   "source": [
    "hotel_df"
   ]
  },
  {
   "cell_type": "markdown",
   "metadata": {},
   "source": [
    "### Hotel Map\n",
    "* Store into variable named `hotel_df`.\n",
    "* Add a \"Hotel Name\" column to the DataFrame.\n",
    "* Set parameters to search for hotels with 5000 meters.\n",
    "* Hit the Google Places API for each city's coordinates.\n",
    "* Store the first Hotel result into the DataFrame.\n",
    "* Plot markers on top of the heatmap."
   ]
  },
  {
   "cell_type": "code",
   "execution_count": 9,
   "metadata": {},
   "outputs": [
    {
     "name": "stderr",
     "output_type": "stream",
     "text": [
      "C:\\Users\\JJ\\anaconda3\\lib\\site-packages\\ipykernel_launcher.py:2: SettingWithCopyWarning: \n",
      "A value is trying to be set on a copy of a slice from a DataFrame.\n",
      "Try using .loc[row_indexer,col_indexer] = value instead\n",
      "\n",
      "See the caveats in the documentation: https://pandas.pydata.org/pandas-docs/stable/user_guide/indexing.html#returning-a-view-versus-a-copy\n",
      "  \n"
     ]
    }
   ],
   "source": [
    "# adding column to df\n",
    "hotel_df[\"Hotel Name\"]=\"\"\n",
    "#location=hotel_df[['Lat','Lng']]"
   ]
  },
  {
   "cell_type": "code",
   "execution_count": 10,
   "metadata": {},
   "outputs": [
    {
     "data": {
      "text/html": [
       "<div>\n",
       "<style scoped>\n",
       "    .dataframe tbody tr th:only-of-type {\n",
       "        vertical-align: middle;\n",
       "    }\n",
       "\n",
       "    .dataframe tbody tr th {\n",
       "        vertical-align: top;\n",
       "    }\n",
       "\n",
       "    .dataframe thead th {\n",
       "        text-align: right;\n",
       "    }\n",
       "</style>\n",
       "<table border=\"1\" class=\"dataframe\">\n",
       "  <thead>\n",
       "    <tr style=\"text-align: right;\">\n",
       "      <th></th>\n",
       "      <th>City ID</th>\n",
       "      <th>City</th>\n",
       "      <th>Country</th>\n",
       "      <th>Lat</th>\n",
       "      <th>Lng</th>\n",
       "      <th>Humidity</th>\n",
       "      <th>Temp</th>\n",
       "      <th>Max Temp</th>\n",
       "      <th>Wind Speed</th>\n",
       "      <th>Cloudiness</th>\n",
       "      <th>Date</th>\n",
       "      <th>Hotel Name</th>\n",
       "    </tr>\n",
       "  </thead>\n",
       "  <tbody>\n",
       "    <tr>\n",
       "      <th>0</th>\n",
       "      <td>193</td>\n",
       "      <td>Bilibino</td>\n",
       "      <td>RU</td>\n",
       "      <td>68.05</td>\n",
       "      <td>166.44</td>\n",
       "      <td>37</td>\n",
       "      <td>69.10</td>\n",
       "      <td>69.10</td>\n",
       "      <td>5.10</td>\n",
       "      <td>0</td>\n",
       "      <td>1592509148</td>\n",
       "      <td></td>\n",
       "    </tr>\n",
       "    <tr>\n",
       "      <th>1</th>\n",
       "      <td>284</td>\n",
       "      <td>Vanderhoof</td>\n",
       "      <td>CA</td>\n",
       "      <td>54.02</td>\n",
       "      <td>-124.02</td>\n",
       "      <td>38</td>\n",
       "      <td>73.33</td>\n",
       "      <td>73.33</td>\n",
       "      <td>5.48</td>\n",
       "      <td>100</td>\n",
       "      <td>1592509453</td>\n",
       "      <td></td>\n",
       "    </tr>\n",
       "    <tr>\n",
       "      <th>2</th>\n",
       "      <td>316</td>\n",
       "      <td>Burns Lake</td>\n",
       "      <td>CA</td>\n",
       "      <td>54.23</td>\n",
       "      <td>-125.75</td>\n",
       "      <td>43</td>\n",
       "      <td>69.21</td>\n",
       "      <td>69.21</td>\n",
       "      <td>5.10</td>\n",
       "      <td>100</td>\n",
       "      <td>1592509457</td>\n",
       "      <td></td>\n",
       "    </tr>\n",
       "    <tr>\n",
       "      <th>3</th>\n",
       "      <td>320</td>\n",
       "      <td>College</td>\n",
       "      <td>US</td>\n",
       "      <td>64.86</td>\n",
       "      <td>-147.80</td>\n",
       "      <td>42</td>\n",
       "      <td>69.15</td>\n",
       "      <td>71.01</td>\n",
       "      <td>5.82</td>\n",
       "      <td>40</td>\n",
       "      <td>1592509132</td>\n",
       "      <td></td>\n",
       "    </tr>\n",
       "    <tr>\n",
       "      <th>4</th>\n",
       "      <td>461</td>\n",
       "      <td>Yuancheng</td>\n",
       "      <td>CN</td>\n",
       "      <td>36.65</td>\n",
       "      <td>107.79</td>\n",
       "      <td>54</td>\n",
       "      <td>68.41</td>\n",
       "      <td>68.41</td>\n",
       "      <td>5.26</td>\n",
       "      <td>99</td>\n",
       "      <td>1592509474</td>\n",
       "      <td></td>\n",
       "    </tr>\n",
       "    <tr>\n",
       "      <th>5</th>\n",
       "      <td>501</td>\n",
       "      <td>Cranbrook</td>\n",
       "      <td>CA</td>\n",
       "      <td>49.50</td>\n",
       "      <td>-115.77</td>\n",
       "      <td>42</td>\n",
       "      <td>68.00</td>\n",
       "      <td>68.00</td>\n",
       "      <td>5.82</td>\n",
       "      <td>75</td>\n",
       "      <td>1592509451</td>\n",
       "      <td></td>\n",
       "    </tr>\n",
       "  </tbody>\n",
       "</table>\n",
       "</div>"
      ],
      "text/plain": [
       "   City ID        City Country    Lat     Lng  Humidity   Temp  Max Temp  \\\n",
       "0      193    Bilibino      RU  68.05  166.44        37  69.10     69.10   \n",
       "1      284  Vanderhoof      CA  54.02 -124.02        38  73.33     73.33   \n",
       "2      316  Burns Lake      CA  54.23 -125.75        43  69.21     69.21   \n",
       "3      320     College      US  64.86 -147.80        42  69.15     71.01   \n",
       "4      461   Yuancheng      CN  36.65  107.79        54  68.41     68.41   \n",
       "5      501   Cranbrook      CA  49.50 -115.77        42  68.00     68.00   \n",
       "\n",
       "   Wind Speed  Cloudiness        Date Hotel Name  \n",
       "0        5.10           0  1592509148             \n",
       "1        5.48         100  1592509453             \n",
       "2        5.10         100  1592509457             \n",
       "3        5.82          40  1592509132             \n",
       "4        5.26          99  1592509474             \n",
       "5        5.82          75  1592509451             "
      ]
     },
     "execution_count": 10,
     "metadata": {},
     "output_type": "execute_result"
    }
   ],
   "source": [
    "hotel_df"
   ]
  },
  {
   "cell_type": "code",
   "execution_count": 11,
   "metadata": {},
   "outputs": [
    {
     "name": "stdout",
     "output_type": "stream",
     "text": [
      "Retrieving results for Index 0: Bilibino\n",
      "Closest Hotel near 'Bilibino' is 'Profilaktoriy Baes'.\n",
      "Retrieving results for Index 1: Vanderhoof\n"
     ]
    },
    {
     "name": "stderr",
     "output_type": "stream",
     "text": [
      "C:\\Users\\JJ\\anaconda3\\lib\\site-packages\\pandas\\core\\indexing.py:965: SettingWithCopyWarning: \n",
      "A value is trying to be set on a copy of a slice from a DataFrame.\n",
      "Try using .loc[row_indexer,col_indexer] = value instead\n",
      "\n",
      "See the caveats in the documentation: https://pandas.pydata.org/pandas-docs/stable/user_guide/indexing.html#returning-a-view-versus-a-copy\n",
      "  self.obj[item] = s\n"
     ]
    },
    {
     "name": "stdout",
     "output_type": "stream",
     "text": [
      "Closest Hotel near 'Vanderhoof' is 'Hillview Motel'.\n",
      "Retrieving results for Index 2: Burns Lake\n",
      "Closest Hotel near 'Burns Lake' is 'Key-oh Lodge'.\n",
      "Retrieving results for Index 3: College\n",
      "Closest Hotel near 'College' is 'River's Edge Resort'.\n",
      "Retrieving results for Index 4: Yuancheng\n",
      "Missing field/result... skiping\n",
      "Retrieving results for Index 5: Cranbrook\n",
      "Closest Hotel near 'Cranbrook' is 'Best Western Cranbrook Hotel'.\n"
     ]
    }
   ],
   "source": [
    "# Google Places API\n",
    "params = {\n",
    "    \"keyword\":\"Hotel\",\n",
    "    \"type\":\"Lodging\",\n",
    "    \"radius\":5000,\n",
    "    \"key\":g_key\n",
    "}\n",
    "\n",
    "base_url = \"https://maps.googleapis.com/maps/api/place/nearbysearch/json\"\n",
    "\n",
    "for index, col in hotel_df.iterrows():\n",
    "    #get the coordinates of city for the params \"location\"\n",
    "    Lati= col[\"Lat\"]\n",
    "    Long= col[\"Lng\"]          \n",
    "    params[\"location\"]=f\"{Lati},{Long}\"\n",
    "    city = col[\"City\"]\n",
    "    print(f\"Retrieving results for Index {index}: {city}\")\n",
    "    \n",
    "    response = requests.get(base_url,params=params).json()\n",
    "    \n",
    "    results = response['results']\n",
    "    \n",
    "    try:\n",
    "        print(f\"Closest Hotel near '{city}' is '{results[0]['name']}'.\" )\n",
    "        hotel_df.loc[index,\"Hotel Name\"]= results[0]['name']\n",
    "    \n",
    "    except (KeyError, IndexError):\n",
    "        print(\"Missing field/result... skiping\")\n",
    "        "
   ]
  },
  {
   "cell_type": "code",
   "execution_count": 12,
   "metadata": {},
   "outputs": [
    {
     "data": {
      "text/html": [
       "<div>\n",
       "<style scoped>\n",
       "    .dataframe tbody tr th:only-of-type {\n",
       "        vertical-align: middle;\n",
       "    }\n",
       "\n",
       "    .dataframe tbody tr th {\n",
       "        vertical-align: top;\n",
       "    }\n",
       "\n",
       "    .dataframe thead th {\n",
       "        text-align: right;\n",
       "    }\n",
       "</style>\n",
       "<table border=\"1\" class=\"dataframe\">\n",
       "  <thead>\n",
       "    <tr style=\"text-align: right;\">\n",
       "      <th></th>\n",
       "      <th>City ID</th>\n",
       "      <th>City</th>\n",
       "      <th>Country</th>\n",
       "      <th>Lat</th>\n",
       "      <th>Lng</th>\n",
       "      <th>Humidity</th>\n",
       "      <th>Temp</th>\n",
       "      <th>Max Temp</th>\n",
       "      <th>Wind Speed</th>\n",
       "      <th>Cloudiness</th>\n",
       "      <th>Date</th>\n",
       "      <th>Hotel Name</th>\n",
       "    </tr>\n",
       "  </thead>\n",
       "  <tbody>\n",
       "    <tr>\n",
       "      <th>0</th>\n",
       "      <td>193</td>\n",
       "      <td>Bilibino</td>\n",
       "      <td>RU</td>\n",
       "      <td>68.05</td>\n",
       "      <td>166.44</td>\n",
       "      <td>37</td>\n",
       "      <td>69.10</td>\n",
       "      <td>69.10</td>\n",
       "      <td>5.10</td>\n",
       "      <td>0</td>\n",
       "      <td>1592509148</td>\n",
       "      <td>Profilaktoriy Baes</td>\n",
       "    </tr>\n",
       "    <tr>\n",
       "      <th>1</th>\n",
       "      <td>284</td>\n",
       "      <td>Vanderhoof</td>\n",
       "      <td>CA</td>\n",
       "      <td>54.02</td>\n",
       "      <td>-124.02</td>\n",
       "      <td>38</td>\n",
       "      <td>73.33</td>\n",
       "      <td>73.33</td>\n",
       "      <td>5.48</td>\n",
       "      <td>100</td>\n",
       "      <td>1592509453</td>\n",
       "      <td>Hillview Motel</td>\n",
       "    </tr>\n",
       "    <tr>\n",
       "      <th>2</th>\n",
       "      <td>316</td>\n",
       "      <td>Burns Lake</td>\n",
       "      <td>CA</td>\n",
       "      <td>54.23</td>\n",
       "      <td>-125.75</td>\n",
       "      <td>43</td>\n",
       "      <td>69.21</td>\n",
       "      <td>69.21</td>\n",
       "      <td>5.10</td>\n",
       "      <td>100</td>\n",
       "      <td>1592509457</td>\n",
       "      <td>Key-oh Lodge</td>\n",
       "    </tr>\n",
       "    <tr>\n",
       "      <th>3</th>\n",
       "      <td>320</td>\n",
       "      <td>College</td>\n",
       "      <td>US</td>\n",
       "      <td>64.86</td>\n",
       "      <td>-147.80</td>\n",
       "      <td>42</td>\n",
       "      <td>69.15</td>\n",
       "      <td>71.01</td>\n",
       "      <td>5.82</td>\n",
       "      <td>40</td>\n",
       "      <td>1592509132</td>\n",
       "      <td>River's Edge Resort</td>\n",
       "    </tr>\n",
       "    <tr>\n",
       "      <th>4</th>\n",
       "      <td>461</td>\n",
       "      <td>Yuancheng</td>\n",
       "      <td>CN</td>\n",
       "      <td>36.65</td>\n",
       "      <td>107.79</td>\n",
       "      <td>54</td>\n",
       "      <td>68.41</td>\n",
       "      <td>68.41</td>\n",
       "      <td>5.26</td>\n",
       "      <td>99</td>\n",
       "      <td>1592509474</td>\n",
       "      <td></td>\n",
       "    </tr>\n",
       "    <tr>\n",
       "      <th>5</th>\n",
       "      <td>501</td>\n",
       "      <td>Cranbrook</td>\n",
       "      <td>CA</td>\n",
       "      <td>49.50</td>\n",
       "      <td>-115.77</td>\n",
       "      <td>42</td>\n",
       "      <td>68.00</td>\n",
       "      <td>68.00</td>\n",
       "      <td>5.82</td>\n",
       "      <td>75</td>\n",
       "      <td>1592509451</td>\n",
       "      <td>Best Western Cranbrook Hotel</td>\n",
       "    </tr>\n",
       "  </tbody>\n",
       "</table>\n",
       "</div>"
      ],
      "text/plain": [
       "   City ID        City Country    Lat     Lng  Humidity   Temp  Max Temp  \\\n",
       "0      193    Bilibino      RU  68.05  166.44        37  69.10     69.10   \n",
       "1      284  Vanderhoof      CA  54.02 -124.02        38  73.33     73.33   \n",
       "2      316  Burns Lake      CA  54.23 -125.75        43  69.21     69.21   \n",
       "3      320     College      US  64.86 -147.80        42  69.15     71.01   \n",
       "4      461   Yuancheng      CN  36.65  107.79        54  68.41     68.41   \n",
       "5      501   Cranbrook      CA  49.50 -115.77        42  68.00     68.00   \n",
       "\n",
       "   Wind Speed  Cloudiness        Date                    Hotel Name  \n",
       "0        5.10           0  1592509148            Profilaktoriy Baes  \n",
       "1        5.48         100  1592509453                Hillview Motel  \n",
       "2        5.10         100  1592509457                  Key-oh Lodge  \n",
       "3        5.82          40  1592509132           River's Edge Resort  \n",
       "4        5.26          99  1592509474                                \n",
       "5        5.82          75  1592509451  Best Western Cranbrook Hotel  "
      ]
     },
     "execution_count": 12,
     "metadata": {},
     "output_type": "execute_result"
    }
   ],
   "source": [
    "hotel_df"
   ]
  },
  {
   "cell_type": "code",
   "execution_count": 19,
   "metadata": {},
   "outputs": [],
   "source": [
    "# NOTE: Do not change any of the code in this cell\n",
    "\n",
    "# Using the template add the hotel marks to the heatmap\n",
    "info_box_template = \"\"\"\n",
    "<dl>\n",
    "<dt>Name</dt><dd>{Hotel Name}</dd>\n",
    "<dt>City</dt><dd>{City}</dd>\n",
    "<dt>Country</dt><dd>{Country}</dd>\n",
    "</dl>\n",
    "\"\"\"\n",
    "# Store the DataFrame Row\n",
    "# NOTE: be sure to update with your DataFrame name\n",
    "hotel_info = [info_box_template.format(**row) for index, row in hotel_df.iterrows()]\n",
    "locations = hotel_df[[\"Lat\", \"Lng\"]]"
   ]
  },
  {
   "cell_type": "code",
   "execution_count": 20,
   "metadata": {},
   "outputs": [
    {
     "data": {
      "text/html": [
       "<div>\n",
       "<style scoped>\n",
       "    .dataframe tbody tr th:only-of-type {\n",
       "        vertical-align: middle;\n",
       "    }\n",
       "\n",
       "    .dataframe tbody tr th {\n",
       "        vertical-align: top;\n",
       "    }\n",
       "\n",
       "    .dataframe thead th {\n",
       "        text-align: right;\n",
       "    }\n",
       "</style>\n",
       "<table border=\"1\" class=\"dataframe\">\n",
       "  <thead>\n",
       "    <tr style=\"text-align: right;\">\n",
       "      <th></th>\n",
       "      <th>Lat</th>\n",
       "      <th>Lng</th>\n",
       "    </tr>\n",
       "  </thead>\n",
       "  <tbody>\n",
       "    <tr>\n",
       "      <th>0</th>\n",
       "      <td>68.05</td>\n",
       "      <td>166.44</td>\n",
       "    </tr>\n",
       "    <tr>\n",
       "      <th>1</th>\n",
       "      <td>54.02</td>\n",
       "      <td>-124.02</td>\n",
       "    </tr>\n",
       "    <tr>\n",
       "      <th>2</th>\n",
       "      <td>54.23</td>\n",
       "      <td>-125.75</td>\n",
       "    </tr>\n",
       "    <tr>\n",
       "      <th>3</th>\n",
       "      <td>64.86</td>\n",
       "      <td>-147.80</td>\n",
       "    </tr>\n",
       "    <tr>\n",
       "      <th>4</th>\n",
       "      <td>36.65</td>\n",
       "      <td>107.79</td>\n",
       "    </tr>\n",
       "    <tr>\n",
       "      <th>5</th>\n",
       "      <td>49.50</td>\n",
       "      <td>-115.77</td>\n",
       "    </tr>\n",
       "  </tbody>\n",
       "</table>\n",
       "</div>"
      ],
      "text/plain": [
       "     Lat     Lng\n",
       "0  68.05  166.44\n",
       "1  54.02 -124.02\n",
       "2  54.23 -125.75\n",
       "3  64.86 -147.80\n",
       "4  36.65  107.79\n",
       "5  49.50 -115.77"
      ]
     },
     "execution_count": 20,
     "metadata": {},
     "output_type": "execute_result"
    }
   ],
   "source": [
    "locations"
   ]
  },
  {
   "cell_type": "code",
   "execution_count": 22,
   "metadata": {},
   "outputs": [
    {
     "data": {
      "application/vnd.jupyter.widget-view+json": {
       "model_id": "517c49dd39c249829e1f7d2de119d1f3",
       "version_major": 2,
       "version_minor": 0
      },
      "text/plain": [
       "Figure(layout=FigureLayout(height='420px'))"
      ]
     },
     "metadata": {},
     "output_type": "display_data"
    }
   ],
   "source": [
    "# Add marker layer ontop of heat map\n",
    "#h_info=gmaps.\n",
    "\n",
    "\n",
    "markers = gmaps.marker_layer(locations)\n",
    "marker_layer=gmaps.marker_layer(locations,info_box_content=hotel_info)\n",
    "\n",
    "\n",
    "fig.add_layer(markers) \n",
    "fig.add_layer(marker_layer) \n",
    "# Display figure\n",
    "fig"
   ]
  },
  {
   "cell_type": "code",
   "execution_count": null,
   "metadata": {},
   "outputs": [],
   "source": []
  }
 ],
 "metadata": {
  "kernelspec": {
   "display_name": "Python 3",
   "language": "python",
   "name": "python3"
  },
  "language_info": {
   "codemirror_mode": {
    "name": "ipython",
    "version": 3
   },
   "file_extension": ".py",
   "mimetype": "text/x-python",
   "name": "python",
   "nbconvert_exporter": "python",
   "pygments_lexer": "ipython3",
   "version": "3.7.6"
  },
  "latex_envs": {
   "LaTeX_envs_menu_present": true,
   "autoclose": false,
   "autocomplete": true,
   "bibliofile": "biblio.bib",
   "cite_by": "apalike",
   "current_citInitial": 1,
   "eqLabelWithNumbers": true,
   "eqNumInitial": 1,
   "hotkeys": {
    "equation": "Ctrl-E",
    "itemize": "Ctrl-I"
   },
   "labels_anchors": false,
   "latex_user_defs": false,
   "report_style_numbering": false,
   "user_envs_cfg": false
  },
  "toc": {
   "base_numbering": 1,
   "nav_menu": {},
   "number_sections": true,
   "sideBar": true,
   "skip_h1_title": false,
   "title_cell": "Table of Contents",
   "title_sidebar": "Contents",
   "toc_cell": false,
   "toc_position": {},
   "toc_section_display": true,
   "toc_window_display": false
  }
 },
 "nbformat": 4,
 "nbformat_minor": 2
}
